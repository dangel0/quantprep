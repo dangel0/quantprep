{
 "cells": [
  {
   "cell_type": "markdown",
   "id": "19c1d486",
   "metadata": {},
   "source": [
    "# OLS ASSUMPTIONS\n",
    "\n",
    "1. Linearity between the independent and dependent variables\n",
    "2. Features are not multicollinear (no perfect multicollinearity)\n",
    "3. Residuals are homoskedastic and normally distributed if making inferences (constant variance)\n",
    "4. Endogeneity residuals are uncorrelated with the independent variables\n",
    "5. No autocorrelation in the residuals "
   ]
  },
  {
   "cell_type": "code",
   "execution_count": 1,
   "id": "ce65f284",
   "metadata": {},
   "outputs": [],
   "source": [
    "import numpy as np"
   ]
  },
  {
   "cell_type": "code",
   "execution_count": 2,
   "id": "9c84abdf",
   "metadata": {},
   "outputs": [],
   "source": [
    "A = np.array([[1,2,3,4, 5],\n",
    "              [5,6,7,8, 9],\n",
    "              [9,10,11,12, 13],\n",
    "              [13,14,15,16, 17],\n",
    "              [17,18,19,20, 21],\n",
    "              [11,12,12,23, 35],\n",
    "              [13,14,15,12, 16]])\n",
    "\n",
    "B = np.array([1,2,3,4, 5, 7, 78])"
   ]
  },
  {
   "cell_type": "code",
   "execution_count": 33,
   "id": "5226fbcb",
   "metadata": {},
   "outputs": [],
   "source": [
    "def OLS(A, b, intercept = False, summary = False):\n",
    "    \"\"\"\n",
    "    Goal: We want to find the vector x (weights vector) that minimizes the error Ax = b\n",
    "    || Ax - b ||  = (Ax - b)' (Ax - b) \n",
    "    take gradient and set = 0\n",
    "    x = (A' A) ^-1 (A' b)\n",
    "    \"\"\"\n",
    "\n",
    "    if intercept == True:\n",
    "        n = A.shape[0]\n",
    "        ones = np.ones((n,1))\n",
    "        A = np.hstack((ones, A))\n",
    "    \n",
    "    try:\n",
    "        x = np.linalg.inv(A.T @ A) @ (A.T @ b)\n",
    "    except Exception as e:\n",
    "        print(f\"WARNING: {e}, using psuedo inverse\")\n",
    "        x = np.linalg.pinv(A.T @ A) @ (A.T @ b)\n",
    "\n",
    "    if summary == True:\n",
    "        print(\"OLS Summary:\")\n",
    "        print(f\"Residuals: {b - A @ x}\")\n",
    "        print(f\"R-squared: {1 - np.sum((b - A @ x) ** 2) / np.sum((b - np.mean(b)) ** 2)}\")\n",
    "    print(f\"OLS Coefficients: {x}\")\n",
    "    return x"
   ]
  },
  {
   "cell_type": "code",
   "execution_count": null,
   "id": "ba7be089",
   "metadata": {},
   "outputs": [
    {
     "name": "stdout",
     "output_type": "stream",
     "text": [
      "Standard OLS:\n",
      "OLS Coefficients: [ -2.10351562   6.22265625   6.546875   -21.00143433   9.97741699]\n",
      "\n",
      "-------------------------------------------\n",
      "\n",
      "OLS w/ Intercept\n",
      "WARNING: Singular matrix, using psuedo inverse\n",
      "OLS Summary:\n",
      "Residuals: [ 2.51532128e-12  1.71951342e-12  9.23705556e-13  1.42108547e-13\n",
      " -6.53699317e-13 -9.94759830e-13 -3.69482223e-13]\n",
      "R-squared: 1.0\n",
      "OLS Coefficients: [  4.18682177  -0.40490573   3.78191604   7.85786849 -21.0050404\n",
      "  10.02016161]\n"
     ]
    }
   ],
   "source": [
    "print(\"Standard OLS:\")\n",
    "OLS(A,b=B)\n",
    "print(\"\\n-------------------------------------------\\n\")\n",
    "print(\"OLS w/ Intercept\")\n",
    "x = OLS(A,b=B, intercept=True, summary=True)"
   ]
  }
 ],
 "metadata": {
  "kernelspec": {
   "display_name": "pipenv-env",
   "language": "python",
   "name": "python3"
  },
  "language_info": {
   "codemirror_mode": {
    "name": "ipython",
    "version": 3
   },
   "file_extension": ".py",
   "mimetype": "text/x-python",
   "name": "python",
   "nbconvert_exporter": "python",
   "pygments_lexer": "ipython3",
   "version": "3.13.3"
  }
 },
 "nbformat": 4,
 "nbformat_minor": 5
}
