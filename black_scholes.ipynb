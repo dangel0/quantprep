{
 "cells": [
  {
   "cell_type": "code",
   "execution_count": 8,
   "id": "bd875852",
   "metadata": {},
   "outputs": [],
   "source": [
    "import numpy as np\n",
    "from scipy.stats import norm"
   ]
  },
  {
   "cell_type": "code",
   "execution_count": 9,
   "id": "aa02d05d",
   "metadata": {},
   "outputs": [],
   "source": [
    "def dydx(func, x, d = 1e-5):\n",
    "    return (func(x+d) - func(x))/d"
   ]
  },
  {
   "cell_type": "code",
   "execution_count": 10,
   "id": "f3aab274",
   "metadata": {},
   "outputs": [],
   "source": [
    "def newton_solve(\n",
    "        func,\n",
    "        guess = 0.0,\n",
    "        tol = 1e-5,\n",
    "        max_iter = 10000\n",
    "):\n",
    "    \"\"\"\n",
    "    Jump in the opposite direction of the derivative until very close to root.\n",
    "    1) Start by evaluating tangent line func(guess) to get the line's root\n",
    "    2) 0 = func(guess) + func'(guess)(new_guess - guess)   <=== solve 0 = first order Taylor Expansion\n",
    "        *  new_guess =  guess - ( func(guess) / func'(guess) ) \n",
    "    3) repeat until y < tol\n",
    "    \"\"\"\n",
    "    temp_guess = guess\n",
    "\n",
    "    for i in range(0,max_iter):\n",
    "        if abs(func(temp_guess)) < tol:\n",
    "            return temp_guess\n",
    "        change = dydx(func, temp_guess)\n",
    "        new_guess = temp_guess - func(temp_guess) / change\n",
    "        temp_guess = new_guess\n",
    "\n",
    "    return temp_guess\n"
   ]
  },
  {
   "cell_type": "code",
   "execution_count": 11,
   "id": "100c95d8",
   "metadata": {},
   "outputs": [],
   "source": [
    "def black_scholes_call(S_0, K, sigma, T, r=0.05):\n",
    "    \"\"\"\n",
    "    C = e^-rt [F * N(d1) - K * N(d2)] \n",
    "    \"\"\"\n",
    "    disc = np.exp(-r * T)\n",
    "    F = S_0 * np.exp(r * T)\n",
    "    d1 = np.log(F/K) / (sigma * np.sqrt(T)) + (sigma * np.sqrt(T))/2\n",
    "    d2 = d1 - sigma * np.sqrt(T)\n",
    "\n",
    "    return disc * (F * norm.cdf(d1) - K * norm.cdf(d2))\n",
    "\n",
    "def black_scholes_put(S_0, K, sigma, T, r=0.05):\n",
    "    \"\"\"\n",
    "    P = e^-rt [K * N(-d2) - F * N(-d1)] \n",
    "    \"\"\"\n",
    "    disc = np.exp(-r * T)\n",
    "    F = S_0 * np.exp(r * T)\n",
    "    d1 = np.log(F/K) / (sigma * np.sqrt(T)) + (sigma * np.sqrt(T))/2\n",
    "    d2 = d1 - sigma * np.sqrt(T)\n",
    "\n",
    "    return disc * (K * norm.cdf(- d2) - F * norm.cdf(-d1))"
   ]
  },
  {
   "cell_type": "code",
   "execution_count": 12,
   "id": "1815406c",
   "metadata": {},
   "outputs": [],
   "source": [
    "def implied_vol(market_price, S_0, K, T, r=0.05):\n",
    "    \"\"\"\n",
    "    In theory market_price - BS_price = 0\n",
    "    \"\"\"\n",
    "    func = lambda sigma : black_scholes_call(S_0=S_0, K=K, T=T, sigma = sigma, r=r) - market_price\n",
    "\n",
    "    return newton_solve(func, guess=0.15)"
   ]
  },
  {
   "cell_type": "code",
   "execution_count": 13,
   "id": "b202783a",
   "metadata": {},
   "outputs": [],
   "source": [
    "def put_call_parity(S_0, K, price, r, T, call_to_put = True):\n",
    "    \"\"\"\n",
    "    C = P + F e-rT \n",
    "      = P + S_O - k e^-rT\n",
    "\n",
    "    P = C - S_0 + k e^-rT\n",
    "    \"\"\"\n",
    "    if call_to_put:\n",
    "        C = price\n",
    "        return C - S_0 + K * np.exp(-r * T)\n",
    "    else:\n",
    "        P = price\n",
    "        return P + S_0 - K * np.exp(-r * T)"
   ]
  },
  {
   "cell_type": "code",
   "execution_count": null,
   "id": "6b283472",
   "metadata": {},
   "outputs": [
    {
     "name": "stdout",
     "output_type": "stream",
     "text": [
      "Black-Scholes Call Price:\n",
      "4.275529177903377\n",
      "Implied Volatility:\n",
      "0.47394845847033795\n",
      "Put-Call Parity Check:\n",
      "Put Price: 60.23017510891799, Actual Put Price: 60.230175108917976\n"
     ]
    }
   ],
   "source": [
    "print(\"Black-Scholes Call Price:\")\n",
    "print(black_scholes_call(40,40,.22, 1, 0.04))\n",
    "\n",
    "market_price, S, K, T, r = 100, 215, 225, 5,0.05\n",
    "iv = implied_vol(market_price, S, K, T, r)\n",
    "print(\"Implied Volatility:\")\n",
    "print(iv)\n",
    "\n",
    "print(\"Put-Call Parity Check:\")\n",
    "call_price = black_scholes_call(S, K, iv, T, r)\n",
    "put_actual = black_scholes_put(S, K, iv, T, r)\n",
    "put_price = put_call_parity(S, K, call_price, r, T, call_to_put=True)\n",
    "print(f\"Put Price: {put_price}, Actual Put Price: {put_actual}\")"
   ]
  }
 ],
 "metadata": {
  "kernelspec": {
   "display_name": "pipenv-env",
   "language": "python",
   "name": "python3"
  },
  "language_info": {
   "codemirror_mode": {
    "name": "ipython",
    "version": 3
   },
   "file_extension": ".py",
   "mimetype": "text/x-python",
   "name": "python",
   "nbconvert_exporter": "python",
   "pygments_lexer": "ipython3",
   "version": "3.13.3"
  }
 },
 "nbformat": 4,
 "nbformat_minor": 5
}
